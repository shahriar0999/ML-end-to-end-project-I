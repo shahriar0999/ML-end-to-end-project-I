{
 "cells": [
  {
   "cell_type": "code",
   "execution_count": 1,
   "metadata": {},
   "outputs": [],
   "source": [
    "# upload all model s3 for previous use"
   ]
  },
  {
   "cell_type": "code",
   "execution_count": 2,
   "metadata": {},
   "outputs": [],
   "source": [
    "import boto3\n",
    "from botocore.exceptions import ClientError\n",
    "\n",
    "s3 = boto3.client('s3')\n",
    "bucket_name = 'mlops-crown'"
   ]
  },
  {
   "cell_type": "code",
   "execution_count": 3,
   "metadata": {},
   "outputs": [
    {
     "name": "stdout",
     "output_type": "stream",
     "text": [
      "Bucket is Already created\n"
     ]
    }
   ],
   "source": [
    "def create_bucket(bucket_name):\n",
    "    # first extract all bucket that created inside my aws\n",
    "    try:\n",
    "        response = s3.list_buckets()\n",
    "        buckets = []\n",
    "        for bucket in response['Buckets']:\n",
    "            buckets.append(bucket['Name'])\n",
    "\n",
    "        # then check is that bucket is already created \n",
    "        if bucket_name in buckets:\n",
    "            print('Bucket is Already created')\n",
    "        else: \n",
    "            s3.create_bucket(Bucket=bucket_name)\n",
    "            print(\"Bucket is created\")\n",
    "    except ClientError as e:\n",
    "        print(f\"An error occurred: {3}\")\n",
    "\n",
    "create_bucket('mlops-crown')"
   ]
  },
  {
   "cell_type": "code",
   "execution_count": 4,
   "metadata": {},
   "outputs": [],
   "source": [
    "import os\n",
    "\n",
    "# upload model folder to s3\n",
    "def upload_directory(directory_path, s3_prefix):\n",
    "    for root, dirs, files in os.walk(directory_path):\n",
    "        for file in files:\n",
    "            file_path = os.path.join(root, file).replace(\"\\\\\", \"/\")\n",
    "            relpath = os.path.relpath(file_path, directory_path)\n",
    "            s3_key = os.path.join(s3_prefix, relpath).replace(\"\\\\\", \"/\")\n",
    "            \n",
    "            s3.upload_file(file_path, bucket_name, s3_key)\n",
    "\n",
    "upload_directory(\"C:/Users/shahr/Music/Project ML/MLOps with FASTAPI/end-to-end-project/human_pose_classification\", 'ml-models/human_pose_classification')"
   ]
  }
 ],
 "metadata": {
  "kernelspec": {
   "display_name": "Python 3",
   "language": "python",
   "name": "python3"
  },
  "language_info": {
   "codemirror_mode": {
    "name": "ipython",
    "version": 3
   },
   "file_extension": ".py",
   "mimetype": "text/x-python",
   "name": "python",
   "nbconvert_exporter": "python",
   "pygments_lexer": "ipython3",
   "version": "3.12.7"
  }
 },
 "nbformat": 4,
 "nbformat_minor": 2
}
